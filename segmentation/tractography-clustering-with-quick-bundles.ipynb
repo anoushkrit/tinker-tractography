{
 "cells": [
  {
   "cell_type": "code",
   "execution_count": 1,
   "metadata": {},
   "outputs": [
    {
     "name": "stderr",
     "output_type": "stream",
     "text": [
      "/home/ang/anaconda3/envs/SupWMA/lib/python3.6/site-packages/tqdm/auto.py:22: TqdmWarning: IProgress not found. Please update jupyter and ipywidgets. See https://ipywidgets.readthedocs.io/en/stable/user_install.html\n",
      "  from .autonotebook import tqdm as notebook_tqdm\n"
     ]
    }
   ],
   "source": [
    "import numpy as np\n",
    "from dipy.io.streamline import load_tractogram\n",
    "from dipy.segment.clustering import QuickBundles\n",
    "from dipy.io.pickles import save_pickle\n",
    "from dipy.data import get_fnames\n",
    "from dipy.viz import window, actor, colormap"
   ]
  },
  {
   "cell_type": "code",
   "execution_count": 2,
   "metadata": {},
   "outputs": [],
   "source": [
    "fname = get_fnames('fornix')"
   ]
  },
  {
   "cell_type": "code",
   "execution_count": 3,
   "metadata": {},
   "outputs": [
    {
     "name": "stdout",
     "output_type": "stream",
     "text": [
      "/home/ang/anaconda3/envs/SupWMA/lib/python3.6/site-packages/dipy/data/files/tracks300.trk\n"
     ]
    }
   ],
   "source": [
    "print(fname)"
   ]
  },
  {
   "cell_type": "code",
   "execution_count": 4,
   "metadata": {},
   "outputs": [],
   "source": [
    "fornix = load_tractogram(fname, 'same', bbox_valid_check=False)\n",
    "streamlines = fornix.streamlines"
   ]
  },
  {
   "cell_type": "code",
   "execution_count": 5,
   "metadata": {},
   "outputs": [
    {
     "data": {
      "text/plain": [
       "79"
      ]
     },
     "execution_count": 5,
     "metadata": {},
     "output_type": "execute_result"
    }
   ],
   "source": [
    "len(streamlines) # 300 streamlines in fornix\n",
    "# stream_numpy = np.ndarray(streamlines)\n",
    "len(streamlines[0]) # No of points per streamlines (points per streamline vary a lot)"
   ]
  },
  {
   "cell_type": "code",
   "execution_count": 6,
   "metadata": {},
   "outputs": [],
   "source": [
    "qb = QuickBundles(threshold=10.)\n",
    "clusters = qb.cluster(streamlines)"
   ]
  },
  {
   "cell_type": "code",
   "execution_count": 7,
   "metadata": {},
   "outputs": [
    {
     "name": "stdout",
     "output_type": "stream",
     "text": [
      "Nb. clusters: 4\n",
      "Cluster sizes: <map object at 0x7f727405f320>\n",
      "Small clusters: [False False False  True]\n",
      "Streamlines indices of the first cluster:\n",
      " [0, 7, 8, 10, 11, 12, 13, 14, 15, 18, 26, 30, 33, 35, 41, 65, 66, 85, 100, 101, 105, 115, 116, 119, 122, 123, 124, 125, 126, 128, 129, 135, 139, 142, 143, 144, 148, 151, 159, 167, 175, 180, 181, 185, 200, 208, 210, 224, 237, 246, 249, 251, 256, 267, 270, 280, 284, 293, 296, 297, 299]\n",
      "Centroid of the last cluster:\n",
      " [[ 84.83774  117.9259    77.322784]\n",
      " [ 86.108505 115.84363   81.91885 ]\n",
      " [ 86.40357  112.25677   85.7293  ]\n",
      " [ 86.48337  107.60328   88.137825]\n",
      " [ 86.238976 102.51007   89.29447 ]\n",
      " [ 85.04564   97.460205  88.542404]\n",
      " [ 82.6024    93.14851   86.84209 ]\n",
      " [ 78.98937   89.57682   85.63652 ]\n",
      " [ 74.72344   86.60828   84.939186]\n",
      " [ 70.40846   85.158745  82.4484  ]\n",
      " [ 66.745346  86.002625  78.82582 ]\n",
      " [ 64.02451   88.43942   75.06974 ]]\n"
     ]
    }
   ],
   "source": [
    "print(\"Nb. clusters:\", len(clusters))\n",
    "print(\"Cluster sizes:\", map(len, clusters))\n",
    "print(\"Small clusters:\", clusters < 10)\n",
    "print(\"Streamlines indices of the first cluster:\\n\", clusters[0].indices)\n",
    "print(\"Centroid of the last cluster:\\n\", clusters[-1].centroid)\n",
    "# TODO: why are there 12 points to one centroid of a cluster\n",
    "\n",
    "# this centroid, is 12 points downsampled from original streamline which depicts the \n",
    "# overall bundle representation."
   ]
  },
  {
   "cell_type": "code",
   "execution_count": 31,
   "metadata": {},
   "outputs": [],
   "source": [
    "# Enables/disables interactive visualization\n",
    "interactive = False\n",
    "\n",
    "scene = window.Scene()\n",
    "scene.SetBackground(1, 1, 1)\n",
    "scene.add(actor.streamtube(streamlines, window.colors.white))\n",
    "window.record(scene, out_path='fornix_initial.png', size=(1000, 1000))\n",
    "if interactive:\n",
    "    window.show(scene)"
   ]
  },
  {
   "cell_type": "code",
   "execution_count": 32,
   "metadata": {},
   "outputs": [],
   "source": [
    "colormap = colormap.create_colormap(np.arange(len(clusters)))\n",
    "\n",
    "scene.clear()\n",
    "scene.SetBackground(1, 1, 1)\n",
    "scene.add(actor.streamtube(streamlines, window.colors.white, opacity=0.05))\n",
    "scene.add(actor.streamtube(clusters.centroids, colormap, linewidth=0.4))\n",
    "window.record(scene, out_path='fornix_centroids.png', size=(600, 600))\n",
    "if interactive:\n",
    "    window.show(scene)\n",
    "\n",
    "scene.clear()"
   ]
  },
  {
   "cell_type": "code",
   "execution_count": 33,
   "metadata": {},
   "outputs": [],
   "source": [
    "colormap_full = np.ones((len(streamlines), 3))\n",
    "for cluster, color in zip(clusters, colormap):\n",
    "    colormap_full[cluster.indices] = color\n",
    "\n",
    "scene.clear()\n",
    "scene.SetBackground(1, 1, 1)\n",
    "scene.add(actor.streamtube(streamlines, colormap_full))\n",
    "window.record(scene, out_path='fornix_clusters.png', size=(600, 600))\n",
    "if interactive:\n",
    "    window.show(scene)"
   ]
  },
  {
   "cell_type": "code",
   "execution_count": null,
   "metadata": {},
   "outputs": [],
   "source": []
  }
 ],
 "metadata": {
  "kernelspec": {
   "display_name": "SupWMA",
   "language": "python",
   "name": "python3"
  },
  "language_info": {
   "codemirror_mode": {
    "name": "ipython",
    "version": 3
   },
   "file_extension": ".py",
   "mimetype": "text/x-python",
   "name": "python",
   "nbconvert_exporter": "python",
   "pygments_lexer": "ipython3",
   "version": "3.6.10"
  },
  "orig_nbformat": 4
 },
 "nbformat": 4,
 "nbformat_minor": 2
}
