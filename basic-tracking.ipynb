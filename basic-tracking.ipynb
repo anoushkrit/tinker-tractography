{
 "cells": [
  {
   "cell_type": "code",
   "execution_count": 2,
   "metadata": {},
   "outputs": [],
   "source": [
    "\n",
    "def resolve_proxy():\n",
    "    import os\n",
    "    os.environ['HTTP_PROXY']=\"http://10.8.0.1:8080\"\n",
    "    os.environ['HTTPS_PROXY']=\"http://10.8.0.1:8080\"\n",
    "    os.environ['http_proxy'] = \"http://10.8.0.1:8080\" \n",
    "    os.environ['https_proxy'] = \"http://10.8.0.1:8080\" \n",
    "resolve_proxy()"
   ]
  },
  {
   "cell_type": "code",
   "execution_count": 3,
   "metadata": {},
   "outputs": [
    {
     "name": "stderr",
     "output_type": "stream",
     "text": [
      "/home/ang/anaconda3/envs/SupWMA/lib/python3.6/site-packages/tqdm/auto.py:22: TqdmWarning: IProgress not found. Please update jupyter and ipywidgets. See https://ipywidgets.readthedocs.io/en/stable/user_install.html\n",
      "  from .autonotebook import tqdm as notebook_tqdm\n",
      "100%|██████████| 5578/5578 [27:02<00:00,  3.44 MB/s]  \n",
      "100%|██████████| 1/1 [00:00<00:00, 369.67 MB/s]\n",
      "100%|██████████| 1/1 [00:00<00:00,  1.53 MB/s]\n",
      "100%|██████████| 4/4 [00:00<00:00,  5.33 MB/s]\n",
      "100%|██████████| 1/1 [00:00<00:00, 785.01 MB/s]\n"
     ]
    }
   ],
   "source": [
    "# https://dipy.org/documentation/1.6.0./examples_built/tracking_introduction_eudx/#example-tracking-introduction-eudx\n",
    "# Enables/disables interactive visualization\n",
    "interactive = False\n",
    "\n",
    "from dipy.core.gradients import gradient_table\n",
    "from dipy.data import get_fnames\n",
    "from dipy.io.gradients import read_bvals_bvecs\n",
    "from dipy.io.image import load_nifti, load_nifti_data\n",
    "\n",
    "hardi_fname, hardi_bval_fname, hardi_bvec_fname = get_fnames('stanford_hardi')\n",
    "# importing stanford hardi data with get_fnames\n",
    "label_fname = get_fnames('stanford_labels')\n",
    "\n",
    "data, affine, hardi_img = load_nifti(hardi_fname, return_img=True)\n",
    "labels = load_nifti_data(label_fname) # read labels of the NIFTI data\n",
    "\n",
    "bvals, bvecs = read_bvals_bvecs(hardi_bval_fname, hardi_bvec_fname)\n",
    "gtab = gradient_table(bvals, bvecs)"
   ]
  },
  {
   "cell_type": "code",
   "execution_count": 6,
   "metadata": {
    "vscode": {
     "languageId": "shellscript"
    }
   },
   "outputs": [
    {
     "data": {
      "text/plain": [
       "('/home/ang/.dipy/stanford_hardi/HARDI150.nii.gz',\n",
       " '/home/ang/.dipy/stanford_hardi/HARDI150.bval',\n",
       " '/home/ang/.dipy/stanford_hardi/HARDI150.bvec',\n",
       " '/home/ang/.dipy/stanford_hardi/aparc-reduced.nii.gz')"
      ]
     },
     "execution_count": 6,
     "metadata": {},
     "output_type": "execute_result"
    }
   ],
   "source": [
    "hardi_fname, hardi_bval_fname, hardi_bvec_fname, label_fname"
   ]
  },
  {
   "cell_type": "code",
   "execution_count": null,
   "metadata": {
    "vscode": {
     "languageId": "shellscript"
    }
   },
   "outputs": [],
   "source": []
  }
 ],
 "metadata": {
  "kernelspec": {
   "display_name": "SupWMA",
   "language": "python",
   "name": "python3"
  },
  "language_info": {
   "codemirror_mode": {
    "name": "ipython",
    "version": 3
   },
   "file_extension": ".py",
   "mimetype": "text/x-python",
   "name": "python",
   "nbconvert_exporter": "python",
   "pygments_lexer": "ipython3",
   "version": "3.6.10"
  },
  "orig_nbformat": 4
 },
 "nbformat": 4,
 "nbformat_minor": 2
}
